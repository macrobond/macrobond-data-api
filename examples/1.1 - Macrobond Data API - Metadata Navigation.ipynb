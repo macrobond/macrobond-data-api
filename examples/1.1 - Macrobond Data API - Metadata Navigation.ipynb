{
 "cells": [
  {
   "attachments": {},
   "cell_type": "markdown",
   "metadata": {},
   "source": [
    "# 1.1 - Macrobond Data API for Python - Metadata Navigation\n",
    "\n",
    "*Understanding Macrobond's metadata attributes*\n",
    "\n",
    "This notebook is designed to act as a template and guidline in which certain elements can be minipulated to get the desired outcome. Here we demonstrate how the Metadata methods work in the Macrobond Data API for Python when you want to get more information for a particular time series and understand the various attributes you can use to refine your analysis.\n",
    "\n",
    "## Fundamental database concepts\n",
    "The database stores _entities_. Entities can be things like TimeSeries, Region, Source, Release and Category.\n",
    "All entities have a _unique name_ and a set of _metadata_.\n",
    "Some types of entities have _additional_ data. The most important example of this is the TimeSeries entity that, in addition to name and metadata, also has a list of values and a list of corresponding dates.\n",
    "\n",
    "If you are just interested in the metadata of an entity, you can use methods such as `get_one_entity`. If you are interested in both metadata and time series values, you probably want to use methods like `get_one_series` instead.\n",
    "\n",
    "Each entity has one or more unique names. Some entities may have more than one name; all entities have a _primary name_ that can never change, but some have additional _aliases_. For instance the TimeSeries with the primary name `usnaac0169` also has the alias `usgdp`. You can use either name to reference this entity.\n",
    "\n",
    "## Focus of this notebook\n",
    "\n",
    "Since the focus of this notebook is on understanding the metadata, we will look at time series from an entity perspective.\n",
    "\n",
    "The metadata of an entity is a set of attributes. Each attribute has a name and a value. For instance, the there is an attribute called `Frequency` that can contain values like `daily` and `monthly`. This attribute is present on TimeSeries.\n",
    "\n",
    "Other metadata attributes may tell what region a time series relates to, the source where the observation comes from, the category under which the time series is classified, or the methodology used by the source to create the observation. These are just some examples.\n",
    "\n",
    "*The examples use the common functions of Macrobond API. Full error handling is omitted for brevity*"
   ]
  },
  {
   "cell_type": "markdown",
   "metadata": {},
   "source": [
    "***\n",
    "\n",
    "## Importing packages"
   ]
  },
  {
   "cell_type": "code",
   "execution_count": 0,
   "metadata": {},
   "outputs": [],
   "source": [
    "import macrobond_data_api as mda"
   ]
  },
  {
   "attachments": {},
   "cell_type": "markdown",
   "metadata": {},
   "source": [
    "***\n",
    "\n",
    "## Get and visualise the metadata\n",
    "\n",
    "Our typical workflow starts with the information we find from a time series' metadata. From there, you can seek further information on these attributes.\n",
    "You can find a full description of all methods and parameters used in the examples in the [documentation of the API](https://macrobond.github.io/macrobond-data-api/common/api.html).<br/>\n",
    "In the examples you will see how you can inspect the metadata and query the database for further information about the values. As an alternative, you can also find information about the values [this page](https://help.macrobond.com/technical-information/common-metadata/).\n",
    "\n",
    "The default presentation of an entity is a Pandas dataframe containing the metadata. This provides a convenient way to visualize the set of attributes. \n",
    "You will see below the full list of metadata attributes available for the time series with the name `ustrad2129`."
   ]
  },
  {
   "cell_type": "code",
   "execution_count": 0,
   "metadata": {},
   "outputs": [],
   "source": [
    "mda.get_one_entity(\"ustrad2120\")"
   ]
  },
  {
   "attachments": {},
   "cell_type": "markdown",
   "metadata": {},
   "source": [
    "As a convenience, some commonly used metadata attribute values can be accessed using specfic Python properites.\n",
    "These are:\n",
    "| Python property | Metadata attribute    |\n",
    "|-----------------| ----------------------|\n",
    "| title           | FullDescription       |\n",
    "| primary_name    | PrimName              |\n",
    "| entity_type     | EntityType            |\n",
    "| is_discontinued | EntityState != 0      |\n",
    "| last_modified   | LastModifiedTimeStamp |"
   ]
  },
  {
   "cell_type": "code",
   "execution_count": null,
   "metadata": {},
   "outputs": [],
   "source": [
    "# enter the time series name of your choice\n",
    "print(\"The title of the series is: \" + mda.get_one_entity(\"ustrad2120\").title)"
   ]
  },
  {
   "attachments": {},
   "cell_type": "markdown",
   "metadata": {},
   "source": [
    "### Getting information about a metadata attribute\n",
    "You can query the API for information on a metadata attribute using the **metadata_get_attribute_information** method. For instance, to get information about the `Category` attribute you can :"
   ]
  },
  {
   "cell_type": "code",
   "execution_count": null,
   "metadata": {},
   "outputs": [],
   "source": [
    "mda.metadata_get_attribute_information(\"Category\")"
   ]
  },
  {
   "attachments": {},
   "cell_type": "markdown",
   "metadata": {},
   "source": [
    "### Listing values a specific attribute can get\n",
    "From the response above, we learn that this that this attribute `uses_value_list` is `True` which means that the values are limited to a list of values. Since `can_list_values` is `True` it is possible values.\n",
    "In the metadata for the entity above, you can see that `Category = trad`. By calling We will now use the method **metadata_list_values** you can get a list of all possible values together with a descriptions."
   ]
  },
  {
   "cell_type": "code",
   "execution_count": null,
   "metadata": {},
   "outputs": [],
   "source": [
    "mda.metadata_list_values(\"Category\")"
   ]
  },
  {
   "attachments": {},
   "cell_type": "markdown",
   "metadata": {},
   "source": [
    "One place where attribute values are used is when searching for time series and other enties using [entity_search](https://macrobond.github.io/macrobond-data-api/common/api.html#macrobond_data_api.common.api.Api.entity_search) and related methods. You can refer to the notebook [2.1 - Basic search](./2.1%20-%20Macrobond%20Data%20API%20-%20Basic%20Search.ipynb) for further examples."
   ]
  },
  {
   "cell_type": "markdown",
   "metadata": {},
   "source": [
    "### Getting information about an attribute value from a value list\n",
    "Another attribute we found in the response is: `Source = src_useia`. Since this attribute uses values from a value list, you can use **metadata_get_value_information** method to get the details of this value."
   ]
  },
  {
   "cell_type": "code",
   "execution_count": null,
   "metadata": {},
   "outputs": [],
   "source": [
    "mda.metadata_get_value_information((\"Source\", \"src_useia\"))"
   ]
  },
  {
   "attachments": {},
   "cell_type": "markdown",
   "metadata": {},
   "source": [
    "### Requesting the metadata of an attribute that is an Entity\n",
    "We saw in section [Understanding the format of an attribute](#getting-information-about-a-metadata-attribute) that some attributes have `is_database_entity` = `True`. In this case, we can fetch the metadata of such Entity by using **get_entities**.\n",
    "Let's use an example on the release code of our time series: `Release = rel_useiareport`."
   ]
  },
  {
   "cell_type": "code",
   "execution_count": null,
   "metadata": {},
   "outputs": [],
   "source": [
    "mda.get_one_entity(\"rel_useiareport\")"
   ]
  },
  {
   "cell_type": "markdown",
   "metadata": {},
   "source": [
    "***\n",
    "\n",
    "# Wrap-up\n",
    "We have learnt in this notebook how to retrieve information on the metadata attributes, starting with a time series' response. The metadata becomes critical in a couple of scenarios such as:\n",
    "* Searching through the database a list of time series that meet pre-defined criteria\n",
    "* Refining a script based on a few attributes\n",
    "* Coding efficiently and understanding the output\n",
    "* Improving a backtest by leveraging the point-in-time attributes\n",
    "* And many more\n",
    "\n",
    "All of these can be achieved thanks to the three metadata endpoints:\n",
    "1. **metadata_get_attribute_information**\n",
    "2. **metadata_get_value_information**\n",
    "3. **metadata_list_values**"
   ]
  }
 ],
 "metadata": {
  "kernelspec": {
   "display_name": "Python 3",
   "language": "python",
   "name": "python3"
  },
  "language_info": {
   "codemirror_mode": {
    "name": "ipython",
    "version": 3
   },
   "file_extension": ".py",
   "mimetype": "text/x-python",
   "name": "python",
   "nbconvert_exporter": "python",
   "pygments_lexer": "ipython3",
   "version": "3.8.10"
  },
  "vscode": {
   "interpreter": {
    "hash": "2881cb102472c0a2cc7b98c9f5b468e81049b20ea6d80c54eb33ba6f13a3277c"
   }
  }
 },
 "nbformat": 4,
 "nbformat_minor": 2
}
